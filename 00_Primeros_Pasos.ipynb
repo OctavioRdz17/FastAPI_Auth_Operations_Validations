{
 "cells": [
  {
   "cell_type": "markdown",
   "metadata": {},
   "source": [
    "## Primeros pasos de FastApi"
   ]
  },
  {
   "cell_type": "markdown",
   "metadata": {},
   "source": [
    "### Conocimientos requeridos\n",
    "    - [ ] Conocimientos de Python\n",
    "    - [ ] Conocimientos Programacion orienta a objetos\n",
    "    - [ ] Conocimiento de Creacion API REST"
   ]
  },
  {
   "cell_type": "markdown",
   "metadata": {},
   "source": [
    "##  Ques es FastAPI?\n",
    "    Es un framework moderno y de alto rendimiento para creacion de API con Python<br>\n",
    "    Compite con otras tecnologias como NodeJs o Go\n",
    "\n",
    "### Caracteristicas\n",
    "    - Rapidp\n",
    "    - Menos errores\n",
    "    - Fácil e Intuitivo\n",
    "    - Robusto\n",
    "    - Basado en estandares\n"
   ]
  },
  {
   "cell_type": "markdown",
   "metadata": {},
   "source": [
    "### Marco utilizado por FastAPI\n",
    "    - Starlette\n",
    "    - Pydantic\n",
    "    - Uvicorn"
   ]
  },
  {
   "cell_type": "markdown",
   "metadata": {},
   "source": [
    "# Preparacion de entorno de desarrollo"
   ]
  },
  {
   "cell_type": "code",
   "execution_count": 5,
   "metadata": {},
   "outputs": [
    {
     "name": "stdout",
     "output_type": "stream",
     "text": [
      "c:\\Users\\octav\\OneDrive\\Documentos\\Platzi\\FastApi\\Operaciones-Validaciones-Autenticacion\\my-movie-api\n"
     ]
    },
    {
     "data": {
      "text/plain": [
       "'c:\\\\Users\\\\octav\\\\OneDrive\\\\Documentos\\\\Platzi\\\\FastApi\\\\Operaciones-Validaciones-Autenticacion\\\\my-movie-api'"
      ]
     },
     "execution_count": 5,
     "metadata": {},
     "output_type": "execute_result"
    }
   ],
   "source": [
    "# Codido de terminal bash\n",
    "# Creacion entorno virtual llamado venv\n",
    "%cd c:\\\\Users\\\\octav\\\\OneDrive\\\\Documentos\\\\Platzi\\\\FastApi\\\\Operaciones-Validaciones-Autenticacion\\\\my-movie-api\n",
    "%pwd\n",
    "%python -m venv venv\n"
   ]
  },
  {
   "cell_type": "code",
   "execution_count": 6,
   "metadata": {},
   "outputs": [
    {
     "name": "stderr",
     "output_type": "stream",
     "text": [
      "UsageError: Line magic function `%venv/Scripts/activate` not found.\n"
     ]
    }
   ],
   "source": [
    "# activacion del entorno virtual linux\n",
    "%venv/bin/activate"
   ]
  },
  {
   "cell_type": "code",
   "execution_count": null,
   "metadata": {},
   "outputs": [],
   "source": [
    "# Para powershell los comando son\n",
    "%python -m venv venv\n",
    "%Set-ExecutionPolicy Unrestricted\n",
    "%.\\venv\\Scripts\\Activate.ps1"
   ]
  },
  {
   "cell_type": "code",
   "execution_count": null,
   "metadata": {},
   "outputs": [],
   "source": [
    "# instalacion de fastapi y uvicorn\n",
    "%pip install fastapi\n",
    "%pip instal uvicorn"
   ]
  },
  {
   "cell_type": "code",
   "execution_count": 1,
   "metadata": {},
   "outputs": [
    {
     "name": "stderr",
     "output_type": "stream",
     "text": [
      "UsageError: Line magic function `%touch` not found.\n"
     ]
    }
   ],
   "source": [
    "# Creamos el primer archivo de la aplicacion\n",
    "%touch main.py\n",
    "\n",
    "#powershell\n",
    "%ni main.py"
   ]
  },
  {
   "cell_type": "code",
   "execution_count": null,
   "metadata": {},
   "outputs": [],
   "source": [
    "# Dentro de main.py vamos a crear la aplicacion\n",
    "\n",
    "from fastapi import FastAPI\n",
    "\n",
    "app = FastAPI()\n",
    "\n",
    "@app.get('/')\n",
    "def message():\n",
    "    return 'Hello World!'"
   ]
  },
  {
   "cell_type": "code",
   "execution_count": null,
   "metadata": {},
   "outputs": [],
   "source": [
    "## Para correr la aplicacion, se debe correr el siguiente comando\n",
    "%uvicorn main:app \n",
    "\n",
    "# para que recarge despues de cada cambio\n",
    "%uvicorn main:app --reload  # main es el nombre del archivo con el codigo y app es el nombre de la funcion\n",
    "\n",
    "## para darle una salida en un puerto determinado\n",
    "%uvicorn main:app --reload --port 5000\n",
    "\n",
    "# podemos ver la aplicacion desde otros dispositivos de la red\n",
    "%uvicorn main:app --reload --port 5000 --host 0.0.0.0\n",
    "\n"
   ]
  }
 ],
 "metadata": {
  "kernelspec": {
   "display_name": "Python 3",
   "language": "python",
   "name": "python3"
  },
  "language_info": {
   "codemirror_mode": {
    "name": "ipython",
    "version": 3
   },
   "file_extension": ".py",
   "mimetype": "text/x-python",
   "name": "python",
   "nbconvert_exporter": "python",
   "pygments_lexer": "ipython3",
   "version": "3.10.8"
  },
  "orig_nbformat": 4
 },
 "nbformat": 4,
 "nbformat_minor": 2
}

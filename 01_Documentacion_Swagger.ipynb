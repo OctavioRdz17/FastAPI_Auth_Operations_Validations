{
 "cells": [
  {
   "cell_type": "markdown",
   "metadata": {},
   "source": [
    "# documentacion con Swagger"
   ]
  },
  {
   "cell_type": "markdown",
   "metadata": {},
   "source": [
    "- Agregamos un /docs para acceder a la documentacion automatica\n",
    "\n",
    "    [http://localhost:5000/docs](http://localhost:5000/docs)\n"
   ]
  },
  {
   "attachments": {
    "image.png": {
     "image/png": "[encoded data removed]"
    }
   },
   "cell_type": "markdown",
   "metadata": {},
   "source": [
    "#### Podemos modificar cosas de la documentacion como el titulo\n",
    "\n",
    "![image.png](attachment:image.png)"
   ]
  },
  {
   "cell_type": "code",
   "execution_count": null,
   "metadata": {},
   "outputs": [],
   "source": [
    "from fastapi import FastAPI\n",
    "\n",
    "app = FastAPI(title= 'Mi aplicacion con FastAPI')\n",
    "#Para cambiar el nombre de la aplicacion\n",
    "app.title = \"Mi FastAPI\"\n",
    "# cambiar la version \n",
    "app.version = \"0.0.23\"\n",
    "\n",
    "\n",
    "# @app.get('/')\n",
    "# esta linea para agregar listas de rutas\n",
    "@app.get('/',tags=['home'])\n",
    "def message():\n",
    "    return 'Hello World!'"
   ]
  },
  {
   "cell_type": "markdown",
   "metadata": {},
   "source": [
    "## Métodos HTTP\n",
    "El protocolo HTTP es aquel que define un conjunto de métodos de petición que indican la acción que se desea realizar para un recurso determinado del servidor.\n",
    "\n",
    "Los principales métodos soportados por HTTP y por ello usados por una API REST son:\n",
    "\n",
    "- POST: crear un recurso nuevo.\n",
    "- PUT: modificar un recurso existente.\n",
    "- GET: consultar información de un recurso.\n",
    "- DELETE: eliminar un recurso.\n",
    "\n",
    "Como te diste cuenta con estos métodos podemos empezar a crear un CRUD en nuestra aplicación.\n",
    "\n",
    "<b>¿De qué tratará nuestra API?</b><br>\n",
    "El proyecto que estaremos construyendo a lo largo del curso será una API que nos brindará información relacionada con películas, por lo que tendremos lo siguiente:\n",
    "\n",
    "<b>Consulta de todas las películas</b><br>\n",
    "Para lograrlo utilizaremos el método GET y solicitaremos todos los datos de nuestras películas.\n",
    "\n",
    "<b>Filtrado de películas</b><br>\n",
    "También solicitaremos información de películas por su id y por la categoría a la que pertenecen, para ello utilizaremos el método GET y nos ayudaremos de los parámetros de ruta y los parámetros query.\n",
    "\n",
    "<b>Registro de peliculas</b><br>\n",
    "Usaremos el método POST para registrar los datos de nuestras películas y también nos ayudaremos de los esquemas de la librería pydantic para el manejo de los datos.\n",
    "\n",
    "<b>Modificación y eliminación</b><br>\n",
    "Finalmente para completar nuestro CRUD realizaremos la modificación y eliminación de datos en nuestra aplicación, para lo cual usaremos los métodos PUT y DELETE respectivamente.\n",
    "\n",
    "Y lo mejor es que todo esto lo estarás construyendo mientras aprendes FastAPI, te veo en la siguiente clase donde te enseñaré cómo puedes utilizar el método GET."
   ]
  },
  {
   "cell_type": "code",
   "execution_count": null,
   "metadata": {},
   "outputs": [],
   "source": []
  }
 ],
 "metadata": {
  "language_info": {
   "name": "python"
  },
  "orig_nbformat": 4
 },
 "nbformat": 4,
 "nbformat_minor": 2
}

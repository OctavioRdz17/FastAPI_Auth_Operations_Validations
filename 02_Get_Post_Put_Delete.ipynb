{
 "cells": [
  {
   "cell_type": "code",
   "execution_count": null,
   "metadata": {},
   "outputs": [],
   "source": [
    "from fastapi import FastAPI\n",
    "\n",
    "app = FastAPI(title= 'Mi aplicacion con FastAPI')\n",
    "#Para cambiar el nombre de la aplicacion\n",
    "app.title = \"Mi FastAPI\"\n",
    "# cambiar la version \n",
    "app.version = \"0.0.23\"\n",
    "\n",
    "\n",
    "# @app.get('/')\n",
    "# esta linea para agregar listas de rutas\n",
    "@app.get('/',tags=['homesito'])\n",
    "def message():\n",
    "    return {'Hello' :'World!'} # se puede regresar cualquier cosa"
   ]
  },
  {
   "cell_type": "code",
   "execution_count": null,
   "metadata": {},
   "outputs": [],
   "source": [
    "# agregamos importaciones\n",
    "from fastapi import FastAPI\n",
    "from fastapi.responses import HTMLResponse"
   ]
  },
  {
   "cell_type": "code",
   "execution_count": null,
   "metadata": {},
   "outputs": [],
   "source": [
    "movies = [\n",
    "    {\n",
    "    'id': 1,\n",
    "    'title': 'Avatar',\n",
    "    'overview': \"En un exuberante planeta llamado Pandora viven los Na'vi, seres que ...\",\n",
    "    'year': '2009',\n",
    "    'rating': 7.8,\n",
    "    'category': 'Acción'    \n",
    "    } \n",
    "]\n",
    "\n",
    "@app.get('/movies',tags=['movies'])\n",
    "def get_movies():\n",
    "    return movies"
   ]
  },
  {
   "cell_type": "code",
   "execution_count": null,
   "metadata": {},
   "outputs": [],
   "source": [
    "from fastapi import FastAPI\n",
    "from fastapi.responses import HTMLResponse\n",
    "\n",
    "app = FastAPI(title= 'Mi aplicacion con FastAPI')\n",
    "#Para cambiar el nombre de la aplicacion\n",
    "app.title = \"Mi FastAPI\"\n",
    "# cambiar la version \n",
    "app.version = \"0.0.2\"\n",
    "\n",
    "movies = [\n",
    "    {\n",
    "    'id': 1,\n",
    "    'title': 'Avatar',\n",
    "    'overview': \"En un exuberante planeta llamado Pandora viven los Na'vi, seres que ...\",\n",
    "    'year': '2009',\n",
    "    'rating': 7.8,\n",
    "    'category': 'Acción'    \n",
    "    } \n",
    "]\n",
    "\n",
    "# @app.get('/')\n",
    "# esta linea para agregar listas de rutas\n",
    "@app.get('/',tags=['homesito'])\n",
    "def message():\n",
    "    return HTMLResponse('<h1>Hello world</h1>')\n",
    "\n",
    "@app.get('/movies',tags=['movies'])\n",
    "def get_movies():\n",
    "    return movies"
   ]
  },
  {
   "cell_type": "markdown",
   "metadata": {},
   "source": [
    "# Parametros de ruta\n"
   ]
  },
  {
   "cell_type": "code",
   "execution_count": null,
   "metadata": {},
   "outputs": [],
   "source": [
    "@app.get('/movies',tags=['movies'])\n",
    "def get_movies():\n",
    "    return movies"
   ]
  },
  {
   "cell_type": "code",
   "execution_count": null,
   "metadata": {},
   "outputs": [],
   "source": [
    "from fastapi import FastAPI\n",
    "from fastapi.responses import HTMLResponse\n",
    "\n",
    "app = FastAPI(title= 'Mi aplicacion con FastAPI')\n",
    "#Para cambiar el nombre de la aplicacion\n",
    "app.title = \"Mi FastAPI\"\n",
    "# cambiar la version \n",
    "app.version = \"0.0.2\"\n",
    "\n",
    "movies = [\n",
    "    {\n",
    "    'id': 1,\n",
    "    'title': 'Avatar',\n",
    "    'overview': \"En un exuberante planeta llamado Pandora viven los Na'vi, seres que ...\",\n",
    "    'year': '2009',\n",
    "    'rating': 7.8,\n",
    "    'category': 'Acción'    \n",
    "    },\n",
    "    {\n",
    "    'id': 2,\n",
    "    'title': 'Avatar',\n",
    "    'overview': \"En un exuberante planeta llamado Pandora viven los Na'vi, seres que ...\",\n",
    "    'year': '2009',\n",
    "    'rating': 7.8,\n",
    "    'category': 'Acción'    \n",
    "    } \n",
    "]\n",
    "\n",
    "# @app.get('/')\n",
    "# esta linea para agregar listas de rutas\n",
    "@app.get('/',tags=['homesito'])\n",
    "def message():\n",
    "    return HTMLResponse('<h1>Hello world</h1>')\n",
    "\n",
    "@app.get('/movies',tags=['movies'])\n",
    "def get_movies():\n",
    "    return movies"
   ]
  },
  {
   "cell_type": "markdown",
   "metadata": {},
   "source": [
    "# Query parameters"
   ]
  },
  {
   "cell_type": "code",
   "execution_count": null,
   "metadata": {},
   "outputs": [],
   "source": [
    "# cuando asignamos un parametro a la funcion pero  no se\n",
    "# especifica en la URL se toma como un parametro Query\n",
    "@app.get('/movies/',tags=['movies'])\n",
    "def get_movies_by_category(category:str,year:str):\n",
    "    # cat_list = []\n",
    "    # for item in movies:\n",
    "    #     if item[\"year\"]== year and item[\"category\"]== category:\n",
    "    #         cat_list.append(item)\n",
    "    # return cat_list\n",
    "\n",
    "    return [item for item in movies if  item[\"category\"]== category]"
   ]
  },
  {
   "cell_type": "markdown",
   "metadata": {},
   "source": [
    "# Metodo Post\n"
   ]
  },
  {
   "cell_type": "code",
   "execution_count": null,
   "metadata": {},
   "outputs": [],
   "source": [
    "# Metodo post\n",
    "# importamos Body en la seccion de imports\n",
    "# ahora agregamos = Body() despues de cada parametro para indicar que estos se pasaran como parte del body\n",
    "@app.post('/movies',tags=['movies'])\n",
    "def create_movie(id:int = Body(),title:str = Body(), overview:str = Body(),year:str = Body(), rating:float = Body(),category:str = Body()):\n",
    "    movies.append({\n",
    "        \"id\": id,\n",
    "        \"title\": title,\n",
    "        \"overview\": overview,\n",
    "        \"year\": year,\n",
    "        \"rating\": rating,\n",
    "        \"category\": category\n",
    "    })\n",
    "    return movies"
   ]
  },
  {
   "cell_type": "markdown",
   "metadata": {},
   "source": [
    "# Metodos PUT y DELETE"
   ]
  },
  {
   "cell_type": "code",
   "execution_count": null,
   "metadata": {},
   "outputs": [],
   "source": [
    "@app.put('/movies/{id}',tags=['movies'])\n",
    "def update_movie(id:int,title:str = Body(), overview:str = Body(),year:str = Body(), rating:float = Body(),category:str = Body()):\n",
    "    return title"
   ]
  },
  {
   "cell_type": "markdown",
   "metadata": {},
   "source": [
    "# Metodo DELETE"
   ]
  },
  {
   "cell_type": "code",
   "execution_count": null,
   "metadata": {},
   "outputs": [],
   "source": [
    "# metodo delete\n",
    "@app.delete('/movies/{id}',tags=['movies'])\n",
    "def delete_movie(id:int): # recordar agregar el tipo de variable\n",
    "    for item in movies:\n",
    "        if item['id'] == id:\n",
    "            movies.remove(item)\n",
    "            return movies\n",
    "    return ['Aqui no se encontro la pelicula a borrar']"
   ]
  },
  {
   "cell_type": "markdown",
   "metadata": {},
   "source": [
    "# Validaciones y Pydantic"
   ]
  },
  {
   "cell_type": "code",
   "execution_count": null,
   "metadata": {},
   "outputs": [],
   "source": [
    "# nos premite crear el squema de datos la libreria Pydantin\n",
    "from pydantic import BaseModel\n",
    "from typing import Optional\n",
    "\n",
    "class Movie(BaseModel):\n",
    "    id: Optional[int] = None\n",
    "    title: str\n",
    "    overview: str\n",
    "    year: str\n",
    "    rating: float\n",
    "    category: str\n"
   ]
  },
  {
   "cell_type": "code",
   "execution_count": null,
   "metadata": {},
   "outputs": [],
   "source": [
    "#cambian los metodos para usar pydantic\n",
    "\n",
    "# metodo post\n",
    "@app.post('/movies',tags=['movies'])\n",
    "def create_movie(movie:Movie):\n",
    "    movies.append(movie)\n",
    "    return movies"
   ]
  },
  {
   "cell_type": "code",
   "execution_count": null,
   "metadata": {},
   "outputs": [],
   "source": [
    "#cambian los metodos para usar pydantic\n",
    "\n",
    "# metodo put\n",
    "@app.put('/movies/{id}',tags=['movies'])\n",
    "def update_movie(id: int, movie:Movie):\n",
    "    for item in movies:\n",
    "        if item[\"id\"] == id:\n",
    "            item[\"title\"]    =  movie.title\n",
    "            item[\"overview\"] =  movie.overview\n",
    "            item[\"year\"]     =  movie.year\n",
    "            item[\"rating\"]   =  movie.rating\n",
    "            item[\"category\"] =  movie.category\n",
    "    return movies\n",
    "\n",
    "# agregamos el .dict() para hacer el input un diccionario y no un objeto\n",
    "@app.post('/movies',tags=['movies'])\n",
    "def create_movie(movie:Movie):\n",
    "    movies.append(movie.dict())\n",
    "    return movies"
   ]
  },
  {
   "cell_type": "markdown",
   "metadata": {},
   "source": [
    "### validaciones"
   ]
  },
  {
   "cell_type": "code",
   "execution_count": null,
   "metadata": {},
   "outputs": [],
   "source": [
    "from pydantic import BaseModel,Field\n",
    "\n",
    "class Movie(BaseModel):\n",
    "    id: Optional[int] = None\n",
    "    title:      str =   Field(min_length = 5,max_length = 20)\n",
    "    overview:   str =   Field(min_length = 10,max_length = 100 )\n",
    "    year:       int =   Field(le= 2022)\n",
    "    rating:     float = Field(le = 10.0)\n",
    "    category:   str =   Field(max_length = 20, min_length = 3)\n",
    "\n",
    "\n",
    "    model_config = {\n",
    "            \"json_schema_extra\" : {\n",
    "                \"example\": [{\n",
    "                    \"id\": 1,\n",
    "                    \"title\": \"Mi Pelicula\",\n",
    "                    \"overview\": \"Descripcion de la mia pelicula\",\n",
    "                    \"year\": 2022,\n",
    "                    \"rating\": 9.0,\n",
    "                    \"category\": \"Anime\"\n",
    "                }]\n",
    "            }\n",
    "        }"
   ]
  },
  {
   "cell_type": "markdown",
   "metadata": {},
   "source": [
    "### Validacion de parametros ruta"
   ]
  },
  {
   "cell_type": "code",
   "execution_count": null,
   "metadata": {},
   "outputs": [],
   "source": [
    "from fastapi import FastAPI, Body, Path\n",
    "@app.get('/movies/{id}',tags=['movies'])\n",
    "def get_movie(id: int = Path(ge=1,le=2000)):\n",
    "    for item in movies:\n",
    "        if item[\"id\"]== id:\n",
    "            return item\n",
    "    return 'No existe la pagina'\n",
    "\n"
   ]
  },
  {
   "cell_type": "markdown",
   "metadata": {},
   "source": [
    "### Validacion de parametros query"
   ]
  },
  {
   "cell_type": "code",
   "execution_count": null,
   "metadata": {},
   "outputs": [],
   "source": [
    "from fastapi import FastAPI, Body, Path, Query\n",
    "\n",
    "@app.get('/movies/',tags=['movies'])\n",
    "def get_movies_by_category(category: str = Query(min_length = 5,max_length=15)): \n",
    "    return [item for item in movies if  item[\"category\"]== category]"
   ]
  },
  {
   "cell_type": "markdown",
   "metadata": {},
   "source": [
    "### Tipos de respuestas"
   ]
  },
  {
   "cell_type": "code",
   "execution_count": null,
   "metadata": {},
   "outputs": [],
   "source": [
    "from fastapi.responses import HTMLResponse,JSONResponse\n",
    "\n",
    "@app.get('/movies',tags=['movies'])\n",
    "def get_movies():\n",
    "    return JSONResponse(content=movies)\n",
    "\n",
    "@app.get('/movies/',tags=['movies'])\n",
    "def get_movies_by_category(category: str = Query(min_length = 5,max_length=15)): \n",
    "    data = [item for item in movies if  item[\"category\"]== category]\n",
    "    return JSONResponse(content=data)\n",
    "\n",
    "@app.post('/movies',tags=['movies'])\n",
    "def create_movie(movie:Movie):\n",
    "    movies.append(movie.dict())\n",
    "    return JSONResponse(content={'message':\"Se ha registrado la pelicula\"})\n"
   ]
  },
  {
   "cell_type": "code",
   "execution_count": null,
   "metadata": {},
   "outputs": [],
   "source": [
    "# agregamos parametros de response_model=\n",
    "from typing import Optional,List\n",
    "\n",
    "@app.get('/movies',tags=['movies'],response_model=List[Movie])\n",
    "def get_movies() -> List[Movie]:\n",
    "    return JSONResponse(content=movies)\n",
    "\n",
    "# parametro ruta\n",
    "@app.get('/movies/{id}',tags=['movies'],response_model=Movie)\n",
    "def get_movie(id: int = Path(ge=1,le=2000)) -> Movie:\n",
    "    for item in movies:\n",
    "        if item[\"id\"]== id:\n",
    "            return JSONResponse(content=item)\n",
    "    return JSONResponse([])\n",
    "\n",
    "@app.get('/movies/',tags=['movies'],response_model=List[Movie])\n",
    "def get_movies_by_category(category: str = Query(min_length = 5,max_length=15)) -> List[Movie]: \n",
    "    data = [item for item in movies if  item[\"category\"]== category]\n",
    "    return JSONResponse(content=data)\n",
    "\n",
    "# metodo put\n",
    "@app.put('/movies/{id}',tags=['movies'],response_model=dict)\n",
    "def update_movie(id:int, movie:Movie) -> dict:\n",
    "    for item in movies:\n",
    "        if item[\"id\"] == id:\n",
    "            item[\"title\"]    =  movie.title\n",
    "            item[\"overview\"] =  movie.overview\n",
    "            item[\"year\"]     =  movie.year\n",
    "            item[\"rating\"]   =  movie.rating\n",
    "            item[\"category\"] =  movie.category\n",
    "            return JSONResponse(content={'message':\"Se ha modificado la pelicula\"})\n",
    "    return 'No se encontro el cotorreo para cambiar'"
   ]
  },
  {
   "cell_type": "markdown",
   "metadata": {},
   "source": [
    "### Codigos de estados"
   ]
  },
  {
   "cell_type": "code",
   "execution_count": null,
   "metadata": {},
   "outputs": [],
   "source": []
  }
 ],
 "metadata": {
  "kernelspec": {
   "display_name": "Python 3",
   "language": "python",
   "name": "python3"
  },
  "language_info": {
   "codemirror_mode": {
    "name": "ipython",
    "version": 3
   },
   "file_extension": ".py",
   "mimetype": "text/x-python",
   "name": "python",
   "nbconvert_exporter": "python",
   "pygments_lexer": "ipython3",
   "version": "3.10.8"
  },
  "orig_nbformat": 4
 },
 "nbformat": 4,
 "nbformat_minor": 2
}
